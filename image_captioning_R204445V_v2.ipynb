{
  "nbformat": 4,
  "nbformat_minor": 0,
  "metadata": {
    "colab": {
      "provenance": [],
      "authorship_tag": "ABX9TyPW5C540VET2Pf2KpP1Oxwk",
      "include_colab_link": true
    },
    "kernelspec": {
      "name": "python3",
      "display_name": "Python 3"
    },
    "language_info": {
      "name": "python"
    }
  },
  "cells": [
    {
      "cell_type": "markdown",
      "metadata": {
        "id": "view-in-github",
        "colab_type": "text"
      },
      "source": [
        "<a href=\"https://colab.research.google.com/github/tadiwamark/CaptionCraft/blob/main/image_captioning_R204445V_v2.ipynb\" target=\"_parent\"><img src=\"https://colab.research.google.com/assets/colab-badge.svg\" alt=\"Open In Colab\"/></a>"
      ]
    },
    {
      "cell_type": "markdown",
      "source": [
        "# Image Captioning Model\n",
        "\n",
        "This code is structured to create a model that can generate captions for videos.\n",
        "The primary dataset used here is the `coco-2017-dataset` from Kaggle, and\n",
        "we utilize a fraction of this dataset for training due to the limitation in computational resources.\n",
        "\n",
        "### Libraries and Modules"
      ],
      "metadata": {
        "id": "Zb-0Gi4j52pQ"
      }
    },
    {
      "cell_type": "code",
      "execution_count": null,
      "metadata": {
        "id": "2z4fah-8HIhU"
      },
      "outputs": [],
      "source": [
        "import os\n",
        "import json\n",
        "import numpy as np\n",
        "import pandas as pd\n",
        "import matplotlib.pyplot as plt\n",
        "import tensorflow as tf\n",
        "import re\n",
        "import pickle\n",
        "from tqdm import tqdm\n",
        "from textwrap import wrap\n",
        "from tensorflow.keras.preprocessing.image import load_img, img_to_array\n",
        "from tensorflow.keras.preprocessing.text import Tokenizer\n",
        "from tensorflow.keras.applications import MobileNetV2\n",
        "from tensorflow.keras import Model, Sequential\n",
        "from tensorflow.keras.layers import Input, Embedding, LSTM, Dense, Concatenate, Dropout, Flatten\n",
        "from tensorflow.keras.optimizers import Adam\n",
        "from tensorflow.keras.utils import to_categorical\n",
        "from tensorflow.keras.preprocessing.sequence import pad_sequences\n",
        "from tensorflow.keras.callbacks import EarlyStopping, ReduceLROnPlateau"
      ]
    },
    {
      "cell_type": "markdown",
      "source": [
        "### Setup and Data Retrieval\n",
        "\n",
        "We start by setting up the Kaggle directory and retrieving the dataset."
      ],
      "metadata": {
        "id": "1BC6Bp9e6Hde"
      }
    },
    {
      "cell_type": "code",
      "source": [
        "from google.colab import files\n",
        "files.upload() # upload kaggle.json\n",
        "\n",
        "# Setup Kaggle Dir\n",
        "!mkdir -p ~/.kaggle\n",
        "!cp kaggle.json ~/.kaggle/\n",
        "!chmod 600 ~/.kaggle/kaggle.json\n",
        "\n",
        "# Download the dataset\n",
        "!kaggle datasets download -d awsaf49/coco-2017-dataset\n",
        "\n",
        "# Unzip the downloaded file\n",
        "!unzip -q coco-2017-dataset.zip"
      ],
      "metadata": {
        "colab": {
          "base_uri": "https://localhost:8080/",
          "height": 125
        },
        "id": "RweT7LO4H2Qd",
        "outputId": "a9b50d62-0da4-4265-ed59-ded3c252d554"
      },
      "execution_count": null,
      "outputs": [
        {
          "output_type": "display_data",
          "data": {
            "text/plain": [
              "<IPython.core.display.HTML object>"
            ],
            "text/html": [
              "\n",
              "     <input type=\"file\" id=\"files-87ff6ba6-9b3f-4b46-888f-1c24b529732a\" name=\"files[]\" multiple disabled\n",
              "        style=\"border:none\" />\n",
              "     <output id=\"result-87ff6ba6-9b3f-4b46-888f-1c24b529732a\">\n",
              "      Upload widget is only available when the cell has been executed in the\n",
              "      current browser session. Please rerun this cell to enable.\n",
              "      </output>\n",
              "      <script>// Copyright 2017 Google LLC\n",
              "//\n",
              "// Licensed under the Apache License, Version 2.0 (the \"License\");\n",
              "// you may not use this file except in compliance with the License.\n",
              "// You may obtain a copy of the License at\n",
              "//\n",
              "//      http://www.apache.org/licenses/LICENSE-2.0\n",
              "//\n",
              "// Unless required by applicable law or agreed to in writing, software\n",
              "// distributed under the License is distributed on an \"AS IS\" BASIS,\n",
              "// WITHOUT WARRANTIES OR CONDITIONS OF ANY KIND, either express or implied.\n",
              "// See the License for the specific language governing permissions and\n",
              "// limitations under the License.\n",
              "\n",
              "/**\n",
              " * @fileoverview Helpers for google.colab Python module.\n",
              " */\n",
              "(function(scope) {\n",
              "function span(text, styleAttributes = {}) {\n",
              "  const element = document.createElement('span');\n",
              "  element.textContent = text;\n",
              "  for (const key of Object.keys(styleAttributes)) {\n",
              "    element.style[key] = styleAttributes[key];\n",
              "  }\n",
              "  return element;\n",
              "}\n",
              "\n",
              "// Max number of bytes which will be uploaded at a time.\n",
              "const MAX_PAYLOAD_SIZE = 100 * 1024;\n",
              "\n",
              "function _uploadFiles(inputId, outputId) {\n",
              "  const steps = uploadFilesStep(inputId, outputId);\n",
              "  const outputElement = document.getElementById(outputId);\n",
              "  // Cache steps on the outputElement to make it available for the next call\n",
              "  // to uploadFilesContinue from Python.\n",
              "  outputElement.steps = steps;\n",
              "\n",
              "  return _uploadFilesContinue(outputId);\n",
              "}\n",
              "\n",
              "// This is roughly an async generator (not supported in the browser yet),\n",
              "// where there are multiple asynchronous steps and the Python side is going\n",
              "// to poll for completion of each step.\n",
              "// This uses a Promise to block the python side on completion of each step,\n",
              "// then passes the result of the previous step as the input to the next step.\n",
              "function _uploadFilesContinue(outputId) {\n",
              "  const outputElement = document.getElementById(outputId);\n",
              "  const steps = outputElement.steps;\n",
              "\n",
              "  const next = steps.next(outputElement.lastPromiseValue);\n",
              "  return Promise.resolve(next.value.promise).then((value) => {\n",
              "    // Cache the last promise value to make it available to the next\n",
              "    // step of the generator.\n",
              "    outputElement.lastPromiseValue = value;\n",
              "    return next.value.response;\n",
              "  });\n",
              "}\n",
              "\n",
              "/**\n",
              " * Generator function which is called between each async step of the upload\n",
              " * process.\n",
              " * @param {string} inputId Element ID of the input file picker element.\n",
              " * @param {string} outputId Element ID of the output display.\n",
              " * @return {!Iterable<!Object>} Iterable of next steps.\n",
              " */\n",
              "function* uploadFilesStep(inputId, outputId) {\n",
              "  const inputElement = document.getElementById(inputId);\n",
              "  inputElement.disabled = false;\n",
              "\n",
              "  const outputElement = document.getElementById(outputId);\n",
              "  outputElement.innerHTML = '';\n",
              "\n",
              "  const pickedPromise = new Promise((resolve) => {\n",
              "    inputElement.addEventListener('change', (e) => {\n",
              "      resolve(e.target.files);\n",
              "    });\n",
              "  });\n",
              "\n",
              "  const cancel = document.createElement('button');\n",
              "  inputElement.parentElement.appendChild(cancel);\n",
              "  cancel.textContent = 'Cancel upload';\n",
              "  const cancelPromise = new Promise((resolve) => {\n",
              "    cancel.onclick = () => {\n",
              "      resolve(null);\n",
              "    };\n",
              "  });\n",
              "\n",
              "  // Wait for the user to pick the files.\n",
              "  const files = yield {\n",
              "    promise: Promise.race([pickedPromise, cancelPromise]),\n",
              "    response: {\n",
              "      action: 'starting',\n",
              "    }\n",
              "  };\n",
              "\n",
              "  cancel.remove();\n",
              "\n",
              "  // Disable the input element since further picks are not allowed.\n",
              "  inputElement.disabled = true;\n",
              "\n",
              "  if (!files) {\n",
              "    return {\n",
              "      response: {\n",
              "        action: 'complete',\n",
              "      }\n",
              "    };\n",
              "  }\n",
              "\n",
              "  for (const file of files) {\n",
              "    const li = document.createElement('li');\n",
              "    li.append(span(file.name, {fontWeight: 'bold'}));\n",
              "    li.append(span(\n",
              "        `(${file.type || 'n/a'}) - ${file.size} bytes, ` +\n",
              "        `last modified: ${\n",
              "            file.lastModifiedDate ? file.lastModifiedDate.toLocaleDateString() :\n",
              "                                    'n/a'} - `));\n",
              "    const percent = span('0% done');\n",
              "    li.appendChild(percent);\n",
              "\n",
              "    outputElement.appendChild(li);\n",
              "\n",
              "    const fileDataPromise = new Promise((resolve) => {\n",
              "      const reader = new FileReader();\n",
              "      reader.onload = (e) => {\n",
              "        resolve(e.target.result);\n",
              "      };\n",
              "      reader.readAsArrayBuffer(file);\n",
              "    });\n",
              "    // Wait for the data to be ready.\n",
              "    let fileData = yield {\n",
              "      promise: fileDataPromise,\n",
              "      response: {\n",
              "        action: 'continue',\n",
              "      }\n",
              "    };\n",
              "\n",
              "    // Use a chunked sending to avoid message size limits. See b/62115660.\n",
              "    let position = 0;\n",
              "    do {\n",
              "      const length = Math.min(fileData.byteLength - position, MAX_PAYLOAD_SIZE);\n",
              "      const chunk = new Uint8Array(fileData, position, length);\n",
              "      position += length;\n",
              "\n",
              "      const base64 = btoa(String.fromCharCode.apply(null, chunk));\n",
              "      yield {\n",
              "        response: {\n",
              "          action: 'append',\n",
              "          file: file.name,\n",
              "          data: base64,\n",
              "        },\n",
              "      };\n",
              "\n",
              "      let percentDone = fileData.byteLength === 0 ?\n",
              "          100 :\n",
              "          Math.round((position / fileData.byteLength) * 100);\n",
              "      percent.textContent = `${percentDone}% done`;\n",
              "\n",
              "    } while (position < fileData.byteLength);\n",
              "  }\n",
              "\n",
              "  // All done.\n",
              "  yield {\n",
              "    response: {\n",
              "      action: 'complete',\n",
              "    }\n",
              "  };\n",
              "}\n",
              "\n",
              "scope.google = scope.google || {};\n",
              "scope.google.colab = scope.google.colab || {};\n",
              "scope.google.colab._files = {\n",
              "  _uploadFiles,\n",
              "  _uploadFilesContinue,\n",
              "};\n",
              "})(self);\n",
              "</script> "
            ]
          },
          "metadata": {}
        },
        {
          "output_type": "stream",
          "name": "stdout",
          "text": [
            "Saving kaggle.json to kaggle.json\n",
            "Downloading coco-2017-dataset.zip to /content\n",
            "100% 25.0G/25.0G [03:12<00:00, 166MB/s]\n",
            "100% 25.0G/25.0G [03:12<00:00, 140MB/s]\n"
          ]
        }
      ]
    },
    {
      "cell_type": "markdown",
      "source": [
        "### Data Preparation\n",
        "\n",
        "We are using only a fraction (20%) of the dataset and reducing the image resolution to manage computational load.\n"
      ],
      "metadata": {
        "id": "rIEFIeVj6NoF"
      }
    },
    {
      "cell_type": "code",
      "source": [
        "# Mount Google Drive\n",
        "from google.colab import drive\n",
        "drive.mount('/content/drive')"
      ],
      "metadata": {
        "colab": {
          "base_uri": "https://localhost:8080/"
        },
        "id": "XkRFfj3FPruT",
        "outputId": "7d741923-4945-47c3-9ed5-eaf7d788eeac"
      },
      "execution_count": null,
      "outputs": [
        {
          "output_type": "stream",
          "name": "stdout",
          "text": [
            "Mounted at /content/drive\n"
          ]
        }
      ]
    },
    {
      "cell_type": "code",
      "source": [
        "# Use a smaller fraction of the dataset\n",
        "frac = 0.2\n",
        "\n",
        "# Reduce image resolution\n",
        "img_size = 64\n",
        "\n",
        "# Setup paths\n",
        "image_path = '/content/coco2017/train2017'\n",
        "annotations_path = '/content/coco2017/annotations/captions_train2017.json'\n",
        "\n",
        "# Load Annotations\n",
        "with open(annotations_path, 'r') as f:\n",
        "    annotations = json.load(f)['annotations']\n",
        "\n",
        "# Extracting Image-Caption Pairs and using a smaller fraction of data\n",
        "img_cap_pairs = []\n",
        "for sample in annotations:\n",
        "    img_name = '%012d.jpg' % sample['image_id']\n",
        "    img_cap_pairs.append([img_name, sample['caption']])\n",
        "\n",
        "# Create a DataFrame from the image-caption pairs\n",
        "data = pd.DataFrame(img_cap_pairs, columns=['image', 'caption']).sample(frac=frac)\n",
        "data['image'] = data['image'].apply(lambda x: os.path.join(image_path, x))"
      ],
      "metadata": {
        "id": "Qg3apZ1IIkcC"
      },
      "execution_count": null,
      "outputs": []
    },
    {
      "cell_type": "markdown",
      "source": [
        "### Text Preprocessing\n",
        "\n",
        "Text captions are processed to remove punctuations, convert to lowercase, and prepend with 'startseq' and append with 'endseq' to indicate the start and the end of the sequence respectively.\n"
      ],
      "metadata": {
        "id": "tK_oVCQe6VuW"
      }
    },
    {
      "cell_type": "code",
      "source": [
        "# Text Preprocessing\n",
        "def text_preprocessing(data):\n",
        "    data['caption'] = data['caption'].apply(lambda x: x.lower())\n",
        "    data['caption'] = data['caption'].apply(lambda x: re.sub(\"[^A-Za-z]\", \" \", x))\n",
        "    data['caption'] = data['caption'].apply(lambda x: re.sub(\"\\s+\", \" \", x))\n",
        "    data['caption'] = data['caption'].apply(lambda x: \" \".join([word for word in x.split() if len(word) > 1]))\n",
        "    data['caption'] = \"startseq \" + data['caption'] + \" endseq\"\n",
        "    return data\n",
        "\n",
        "data = text_preprocessing(data)\n",
        "captions = data['caption'].tolist()\n",
        "\n",
        "# Tokenization with a reduced vocabulary size\n",
        "tokenizer = Tokenizer(num_words=5000)\n",
        "tokenizer.fit_on_texts(captions)\n",
        "vocab_size = len(tokenizer.word_index) + 1\n",
        "max_length = max(len(caption.split()) for caption in captions)\n",
        "\n",
        "# Save the Tokenizer\n",
        "with open('/content/drive/My Drive/Colab Notebooks/tokenizer.pickle', 'wb') as handle:\n",
        "    pickle.dump(tokenizer, handle, protocol=pickle.HIGHEST_PROTOCOL)"
      ],
      "metadata": {
        "id": "xygGj-8IPR3-"
      },
      "execution_count": null,
      "outputs": []
    },
    {
      "cell_type": "code",
      "source": [
        "img_size = 224"
      ],
      "metadata": {
        "id": "FX-DhHncZKgp"
      },
      "execution_count": null,
      "outputs": []
    },
    {
      "cell_type": "code",
      "source": [
        "# Using MobileNetV2 for feature extraction\n",
        "base_model = MobileNetV2(input_shape=(img_size,img_size,3), include_top=False, pooling='avg', weights='imagenet')\n",
        "x = base_model.output\n",
        "x = Dense(4096, activation='relu')(x)\n",
        "feature_extractor = Model(inputs=base_model.input, outputs=x)\n",
        "\n",
        "# Extracting features from reduced resolution images\n",
        "features = {}\n",
        "for image in tqdm(data['image'].unique().tolist()):\n",
        "    img = load_img(image, target_size=(img_size, img_size))\n",
        "    img = img_to_array(img) / 255.0\n",
        "    img = np.expand_dims(img, axis=0)\n",
        "    feature = feature_extractor.predict(img, verbose=0)\n",
        "    features[image] = feature.flatten()"
      ],
      "metadata": {
        "colab": {
          "base_uri": "https://localhost:8080/"
        },
        "id": "FOq2RLq2PWSf",
        "outputId": "445090d7-d8b3-4684-97c1-eeb481194a87"
      },
      "execution_count": null,
      "outputs": [
        {
          "output_type": "stream",
          "name": "stdout",
          "text": [
            "Downloading data from https://storage.googleapis.com/tensorflow/keras-applications/mobilenet_v2/mobilenet_v2_weights_tf_dim_ordering_tf_kernels_1.0_224_no_top.h5\n",
            "9406464/9406464 [==============================] - 0s 0us/step\n"
          ]
        },
        {
          "output_type": "stream",
          "name": "stderr",
          "text": [
            "100%|██████████| 79719/79719 [1:23:12<00:00, 15.97it/s]\n"
          ]
        }
      ]
    },
    {
      "cell_type": "code",
      "source": [
        "with open('/content/drive/My Drive/Colab Notebooks/transformed_features.pkl', 'wb') as file:\n",
        "    pickle.dump(features, file)"
      ],
      "metadata": {
        "id": "f4DgyNoTPwzr"
      },
      "execution_count": null,
      "outputs": []
    },
    {
      "cell_type": "markdown",
      "source": [
        "### Model Construction\n",
        "\n",
        "Construct a model consisting of an image model and a text model that are concatenated and connected to a final dense layer with softmax activation. Regularization is applied to prevent overfitting."
      ],
      "metadata": {
        "id": "poOd824K6wUC"
      }
    },
    {
      "cell_type": "code",
      "source": [
        "# Constructing the Model with less complexity\n",
        "input_img = Input(shape=(4096,), name='image_input')  # <-- Adjust the input shape here.\n",
        "img_model = Dense(256, activation='relu')(input_img)\n",
        "input_txt = Input(shape=(max_length,), name='text_input')\n",
        "embedding_layer = Embedding(input_dim=vocab_size, output_dim=256, mask_zero=True)(input_txt)\n",
        "lstm_layer = LSTM(256)(embedding_layer)\n",
        "txt_model = Dense(256, activation='relu')(lstm_layer)\n",
        "merged = Concatenate(axis=-1)([img_model, txt_model])\n",
        "output = Dense(vocab_size, activation='softmax')(merged)\n",
        "\n",
        "# Regularization\n",
        "img_model = Dropout(0.5)(Dense(256, activation='relu', kernel_regularizer='l2')(input_img))\n",
        "txt_model = Dropout(0.5)(Dense(256, activation='relu', kernel_regularizer='l2')(lstm_layer))\n",
        "\n",
        "# Fine-tuning the base model\n",
        "for layer in base_model.layers[:-5]:\n",
        "    layer.trainable = False\n",
        "\n",
        "# Hyperparameter tuning\n",
        "opt = Adam(learning_rate=0.0001)\n",
        "\n",
        "\n",
        "# Compiling the Model\n",
        "model = Model(inputs=[input_img, input_txt], outputs=output)\n",
        "model.compile(optimizer='adam', loss='categorical_crossentropy', metrics=['accuracy'])\n"
      ],
      "metadata": {
        "id": "Dxgk5cz-PcZU"
      },
      "execution_count": null,
      "outputs": []
    },
    {
      "cell_type": "markdown",
      "source": [
        "### Data Generator and Model Training\n",
        "\n",
        "Define a generator to yield batches of input-output pairs and train the model using this generator with early stopping.\n"
      ],
      "metadata": {
        "id": "jNbqV3y-61HU"
      }
    },
    {
      "cell_type": "code",
      "source": [
        "def generator():\n",
        "    for idx, row in data.iterrows():\n",
        "        try:  # try to get the feature\n",
        "            feature = features[row['image']].squeeze()\n",
        "        except KeyError:  # if feature not available, continue to the next iteration\n",
        "            print(f\"Feature for {row['image']} not found. Skipping...\")\n",
        "            continue\n",
        "\n",
        "        seq = tokenizer.texts_to_sequences([row['caption']])[0]\n",
        "\n",
        "        for i in range(1, len(seq)):\n",
        "            in_seq = pad_sequences([seq[:i]], maxlen=max_length)[0]\n",
        "            out_seq = to_categorical([seq[i]], num_classes=vocab_size)[0]\n",
        "\n",
        "            yield {'image_input': feature, 'text_input': in_seq}, out_seq\n",
        "\n",
        "# Create a tf.data dataset from the generator\n",
        "dataset = tf.data.Dataset.from_generator(\n",
        "    generator,\n",
        "    output_signature=(\n",
        "        {\n",
        "            'image_input': tf.TensorSpec(shape=(4096,), dtype=tf.float32),\n",
        "            'text_input': tf.TensorSpec(shape=(max_length,), dtype=tf.int32)\n",
        "        },\n",
        "        tf.TensorSpec(shape=(vocab_size,), dtype=tf.int32)\n",
        "    )\n",
        ")\n",
        "\n",
        "# Set up pipeline for shuffling, batching, and prefetching\n",
        "batch_size = 64\n",
        "dataset = dataset.shuffle(buffer_size=1000).batch(batch_size).prefetch(buffer_size=tf.data.AUTOTUNE)"
      ],
      "metadata": {
        "id": "G0xmC7KkPh1G"
      },
      "execution_count": null,
      "outputs": []
    },
    {
      "cell_type": "code",
      "source": [
        "# Training with more patience\n",
        "early_stopping = EarlyStopping(patience=4, restore_best_weights=True)\n",
        "model.fit(dataset, epochs=10, callbacks=[early_stopping])"
      ],
      "metadata": {
        "colab": {
          "base_uri": "https://localhost:8080/"
        },
        "id": "fmThwApJPlJc",
        "outputId": "0c417b67-2933-41bb-c50e-25b2b009fd10"
      },
      "execution_count": null,
      "outputs": [
        {
          "output_type": "stream",
          "name": "stdout",
          "text": [
            "Epoch 1/10\n",
            "  17902/Unknown - 2085s 116ms/step - loss: 3.7687 - accuracy: 0.3183"
          ]
        },
        {
          "output_type": "stream",
          "name": "stderr",
          "text": [
            "WARNING:tensorflow:Early stopping conditioned on metric `val_loss` which is not available. Available metrics are: loss,accuracy\n"
          ]
        },
        {
          "output_type": "stream",
          "name": "stdout",
          "text": [
            "\b\b\b\b\b\b\b\b\b\b\b\b\b\b\b\b\b\b\b\b\b\b\b\b\b\b\b\b\b\b\b\b\b\b\b\b\b\b\b\b\b\b\b\b\b\b\b\b\b\b\b\b\b\b\b\b\b\b\b\b\b\b\b\b\b\b\b\b\r17902/17902 [==============================] - 2085s 116ms/step - loss: 3.7687 - accuracy: 0.3183\n",
            "Epoch 2/10\n",
            "17902/17902 [==============================] - ETA: 0s - loss: 3.2953 - accuracy: 0.3561"
          ]
        },
        {
          "output_type": "stream",
          "name": "stderr",
          "text": [
            "WARNING:tensorflow:Early stopping conditioned on metric `val_loss` which is not available. Available metrics are: loss,accuracy\n"
          ]
        },
        {
          "output_type": "stream",
          "name": "stdout",
          "text": [
            "\b\b\b\b\b\b\b\b\b\b\b\b\b\b\b\b\b\b\b\b\b\b\b\b\b\b\b\b\b\b\b\b\b\b\b\b\b\b\b\b\b\b\b\b\b\b\b\b\b\b\b\b\b\b\b\b\b\b\b\b\b\b\b\b\b\b\b\b\b\b\b\b\b\b\b\b\b\b\b\b\b\b\b\b\b\b\b\b\r17902/17902 [==============================] - 2048s 114ms/step - loss: 3.2953 - accuracy: 0.3561\n",
            "Epoch 3/10\n",
            "17902/17902 [==============================] - ETA: 0s - loss: 3.2021 - accuracy: 0.3642"
          ]
        },
        {
          "output_type": "stream",
          "name": "stderr",
          "text": [
            "WARNING:tensorflow:Early stopping conditioned on metric `val_loss` which is not available. Available metrics are: loss,accuracy\n"
          ]
        },
        {
          "output_type": "stream",
          "name": "stdout",
          "text": [
            "\b\b\b\b\b\b\b\b\b\b\b\b\b\b\b\b\b\b\b\b\b\b\b\b\b\b\b\b\b\b\b\b\b\b\b\b\b\b\b\b\b\b\b\b\b\b\b\b\b\b\b\b\b\b\b\b\b\b\b\b\b\b\b\b\b\b\b\b\b\b\b\b\b\b\b\b\b\b\b\b\b\b\b\b\b\b\b\b\r17902/17902 [==============================] - 2046s 114ms/step - loss: 3.2021 - accuracy: 0.3642\n",
            "Epoch 4/10\n",
            "17902/17902 [==============================] - ETA: 0s - loss: 3.1615 - accuracy: 0.3675"
          ]
        },
        {
          "output_type": "stream",
          "name": "stderr",
          "text": [
            "WARNING:tensorflow:Early stopping conditioned on metric `val_loss` which is not available. Available metrics are: loss,accuracy\n"
          ]
        },
        {
          "output_type": "stream",
          "name": "stdout",
          "text": [
            "\b\b\b\b\b\b\b\b\b\b\b\b\b\b\b\b\b\b\b\b\b\b\b\b\b\b\b\b\b\b\b\b\b\b\b\b\b\b\b\b\b\b\b\b\b\b\b\b\b\b\b\b\b\b\b\b\b\b\b\b\b\b\b\b\b\b\b\b\b\b\b\b\b\b\b\b\b\b\b\b\b\b\b\b\b\b\b\b\r17902/17902 [==============================] - 2016s 113ms/step - loss: 3.1615 - accuracy: 0.3675\n",
            "Epoch 5/10\n",
            "17902/17902 [==============================] - ETA: 0s - loss: 3.1338 - accuracy: 0.3697"
          ]
        },
        {
          "output_type": "stream",
          "name": "stderr",
          "text": [
            "WARNING:tensorflow:Early stopping conditioned on metric `val_loss` which is not available. Available metrics are: loss,accuracy\n"
          ]
        },
        {
          "output_type": "stream",
          "name": "stdout",
          "text": [
            "\b\b\b\b\b\b\b\b\b\b\b\b\b\b\b\b\b\b\b\b\b\b\b\b\b\b\b\b\b\b\b\b\b\b\b\b\b\b\b\b\b\b\b\b\b\b\b\b\b\b\b\b\b\b\b\b\b\b\b\b\b\b\b\b\b\b\b\b\b\b\b\b\b\b\b\b\b\b\b\b\b\b\b\b\b\b\b\b\r17902/17902 [==============================] - 1990s 111ms/step - loss: 3.1338 - accuracy: 0.3697\n",
            "Epoch 6/10\n",
            "17902/17902 [==============================] - ETA: 0s - loss: 3.1070 - accuracy: 0.3728"
          ]
        },
        {
          "output_type": "stream",
          "name": "stderr",
          "text": [
            "WARNING:tensorflow:Early stopping conditioned on metric `val_loss` which is not available. Available metrics are: loss,accuracy\n"
          ]
        },
        {
          "output_type": "stream",
          "name": "stdout",
          "text": [
            "\b\b\b\b\b\b\b\b\b\b\b\b\b\b\b\b\b\b\b\b\b\b\b\b\b\b\b\b\b\b\b\b\b\b\b\b\b\b\b\b\b\b\b\b\b\b\b\b\b\b\b\b\b\b\b\b\b\b\b\b\b\b\b\b\b\b\b\b\b\b\b\b\b\b\b\b\b\b\b\b\b\b\b\b\b\b\b\b\r17902/17902 [==============================] - 1972s 110ms/step - loss: 3.1070 - accuracy: 0.3728\n",
            "Epoch 7/10\n",
            "17902/17902 [==============================] - ETA: 0s - loss: 3.0996 - accuracy: 0.3734"
          ]
        },
        {
          "output_type": "stream",
          "name": "stderr",
          "text": [
            "WARNING:tensorflow:Early stopping conditioned on metric `val_loss` which is not available. Available metrics are: loss,accuracy\n"
          ]
        },
        {
          "output_type": "stream",
          "name": "stdout",
          "text": [
            "\b\b\b\b\b\b\b\b\b\b\b\b\b\b\b\b\b\b\b\b\b\b\b\b\b\b\b\b\b\b\b\b\b\b\b\b\b\b\b\b\b\b\b\b\b\b\b\b\b\b\b\b\b\b\b\b\b\b\b\b\b\b\b\b\b\b\b\b\b\b\b\b\b\b\b\b\b\b\b\b\b\b\b\b\b\b\b\b\r17902/17902 [==============================] - 1958s 109ms/step - loss: 3.0996 - accuracy: 0.3734\n",
            "Epoch 8/10\n",
            "17902/17902 [==============================] - ETA: 0s - loss: 3.0955 - accuracy: 0.3742"
          ]
        },
        {
          "output_type": "stream",
          "name": "stderr",
          "text": [
            "WARNING:tensorflow:Early stopping conditioned on metric `val_loss` which is not available. Available metrics are: loss,accuracy\n"
          ]
        },
        {
          "output_type": "stream",
          "name": "stdout",
          "text": [
            "\b\b\b\b\b\b\b\b\b\b\b\b\b\b\b\b\b\b\b\b\b\b\b\b\b\b\b\b\b\b\b\b\b\b\b\b\b\b\b\b\b\b\b\b\b\b\b\b\b\b\b\b\b\b\b\b\b\b\b\b\b\b\b\b\b\b\b\b\b\b\b\b\b\b\b\b\b\b\b\b\b\b\b\b\b\b\b\b\r17902/17902 [==============================] - 1974s 110ms/step - loss: 3.0955 - accuracy: 0.3742\n",
            "Epoch 9/10\n",
            "17902/17902 [==============================] - ETA: 0s - loss: 3.0874 - accuracy: 0.3749"
          ]
        },
        {
          "output_type": "stream",
          "name": "stderr",
          "text": [
            "WARNING:tensorflow:Early stopping conditioned on metric `val_loss` which is not available. Available metrics are: loss,accuracy\n"
          ]
        },
        {
          "output_type": "stream",
          "name": "stdout",
          "text": [
            "\b\b\b\b\b\b\b\b\b\b\b\b\b\b\b\b\b\b\b\b\b\b\b\b\b\b\b\b\b\b\b\b\b\b\b\b\b\b\b\b\b\b\b\b\b\b\b\b\b\b\b\b\b\b\b\b\b\b\b\b\b\b\b\b\b\b\b\b\b\b\b\b\b\b\b\b\b\b\b\b\b\b\b\b\b\b\b\b\r17902/17902 [==============================] - 1970s 110ms/step - loss: 3.0874 - accuracy: 0.3749\n",
            "Epoch 10/10\n",
            "17902/17902 [==============================] - ETA: 0s - loss: 3.0854 - accuracy: 0.3751"
          ]
        },
        {
          "output_type": "stream",
          "name": "stderr",
          "text": [
            "WARNING:tensorflow:Early stopping conditioned on metric `val_loss` which is not available. Available metrics are: loss,accuracy\n"
          ]
        },
        {
          "output_type": "stream",
          "name": "stdout",
          "text": [
            "\b\b\b\b\b\b\b\b\b\b\b\b\b\b\b\b\b\b\b\b\b\b\b\b\b\b\b\b\b\b\b\b\b\b\b\b\b\b\b\b\b\b\b\b\b\b\b\b\b\b\b\b\b\b\b\b\b\b\b\b\b\b\b\b\b\b\b\b\b\b\b\b\b\b\b\b\b\b\b\b\b\b\b\b\b\b\b\b\r17902/17902 [==============================] - 1988s 111ms/step - loss: 3.0854 - accuracy: 0.3751\n"
          ]
        },
        {
          "output_type": "execute_result",
          "data": {
            "text/plain": [
              "<keras.src.callbacks.History at 0x7db18180c9d0>"
            ]
          },
          "metadata": {},
          "execution_count": 12
        }
      ]
    },
    {
      "cell_type": "code",
      "source": [
        "# Save the Model\n",
        "model.save('/content/drive/My Drive/Colab Notebooks/image_captioning_model.h5')"
      ],
      "metadata": {
        "colab": {
          "base_uri": "https://localhost:8080/"
        },
        "id": "gmbbv7p4P2cK",
        "outputId": "b73280e8-a900-4304-ea64-43abd296e7e4"
      },
      "execution_count": null,
      "outputs": [
        {
          "output_type": "stream",
          "name": "stderr",
          "text": [
            "/usr/local/lib/python3.10/dist-packages/keras/src/engine/training.py:3000: UserWarning: You are saving your model as an HDF5 file via `model.save()`. This file format is considered legacy. We recommend using instead the native Keras format, e.g. `model.save('my_model.keras')`.\n",
            "  saving_api.save_model(\n"
          ]
        }
      ]
    },
    {
      "cell_type": "code",
      "source": [],
      "metadata": {
        "id": "EAuL7mJQd7RG"
      },
      "execution_count": null,
      "outputs": []
    }
  ]
}